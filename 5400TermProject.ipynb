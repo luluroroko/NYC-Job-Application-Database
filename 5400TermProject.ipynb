{
 "cells": [
  {
   "cell_type": "code",
   "execution_count": 1,
   "id": "3a5264e1-c0a9-45ae-8928-c9c60c204b7c",
   "metadata": {},
   "outputs": [],
   "source": [
    "#Installing packages\n",
    "import pymongo\n",
    "import pandas as pd\n",
    "import json"
   ]
  },
  {
   "cell_type": "code",
   "execution_count": 2,
   "id": "edbb0018-929b-471e-80ad-7e44575ebc74",
   "metadata": {},
   "outputs": [],
   "source": [
    "#Connecting to mongodb\n",
    "from pymongo import MongoClient\n",
    "client = MongoClient('localhost',27017)\n",
    "db = client.database1"
   ]
  },
  {
   "cell_type": "code",
   "execution_count": 3,
   "id": "7100cf12-e3ba-4638-823f-4a1a6a518d0e",
   "metadata": {},
   "outputs": [],
   "source": [
    "#Loading in into the data\n",
    "collection = db.collection1"
   ]
  },
  {
   "cell_type": "code",
   "execution_count": 4,
   "id": "26c54366-1a0b-46a2-846f-ad4efa445f46",
   "metadata": {},
   "outputs": [
    {
     "data": {
      "text/plain": [
       "3773"
      ]
     },
     "execution_count": 4,
     "metadata": {},
     "output_type": "execute_result"
    }
   ],
   "source": [
    "total_docs = collection.count_documents({})\n",
    "total_docs"
   ]
  },
  {
   "cell_type": "code",
   "execution_count": 5,
   "id": "aa62b86a-23b9-47d3-8b64-85f6369dc760",
   "metadata": {},
   "outputs": [],
   "source": [
    "#MongoDB test sample\n",
    "query = {\n",
    "    \"Job Category\": {\n",
    "        \"$regex\": 'Health'\n",
    "    }    \n",
    "}\n",
    "cur = collection.find(query)"
   ]
  },
  {
   "cell_type": "code",
   "execution_count": 6,
   "id": "23b94eab-f6c2-4a53-9ff3-084a73d42989",
   "metadata": {},
   "outputs": [],
   "source": [
    "#Appending the result into the list\n",
    "a  = []\n",
    "\n",
    "for i in cur:\n",
    "    a.append(i)"
   ]
  },
  {
   "cell_type": "code",
   "execution_count": 7,
   "id": "3261da83-7549-4cd4-a0bd-df624e27acde",
   "metadata": {},
   "outputs": [
    {
     "data": {
      "text/html": [
       "<div>\n",
       "<style scoped>\n",
       "    .dataframe tbody tr th:only-of-type {\n",
       "        vertical-align: middle;\n",
       "    }\n",
       "\n",
       "    .dataframe tbody tr th {\n",
       "        vertical-align: top;\n",
       "    }\n",
       "\n",
       "    .dataframe thead th {\n",
       "        text-align: right;\n",
       "    }\n",
       "</style>\n",
       "<table border=\"1\" class=\"dataframe\">\n",
       "  <thead>\n",
       "    <tr style=\"text-align: right;\">\n",
       "      <th></th>\n",
       "      <th>Job ID</th>\n",
       "      <th>Agency</th>\n",
       "      <th>Posting Type</th>\n",
       "      <th># Of Positions</th>\n",
       "      <th>Business Title</th>\n",
       "      <th>Civil Service Title</th>\n",
       "      <th>Title Classification</th>\n",
       "      <th>Title Code No</th>\n",
       "      <th>Level</th>\n",
       "      <th>Job Category</th>\n",
       "      <th>...</th>\n",
       "      <th>Additional Information</th>\n",
       "      <th>To Apply</th>\n",
       "      <th>Hours/Shift</th>\n",
       "      <th>Work Location 1</th>\n",
       "      <th>Recruitment Contact</th>\n",
       "      <th>Residency Requirement</th>\n",
       "      <th>Posting Date</th>\n",
       "      <th>Post Until</th>\n",
       "      <th>Posting Updated</th>\n",
       "      <th>Process Date</th>\n",
       "    </tr>\n",
       "  </thead>\n",
       "  <tbody>\n",
       "    <tr>\n",
       "      <th>0</th>\n",
       "      <td>424339</td>\n",
       "      <td>DEPT OF HEALTH/MENTAL HYGIENE</td>\n",
       "      <td>External</td>\n",
       "      <td>1</td>\n",
       "      <td>Triage Nurse, Bureau of Public Health Clinics</td>\n",
       "      <td>PUBLIC HEALTH NURSE</td>\n",
       "      <td>Competitive-1</td>\n",
       "      <td>51011</td>\n",
       "      <td>3</td>\n",
       "      <td>Health</td>\n",
       "      <td>...</td>\n",
       "      <td>**IMPORTANT NOTES TO ALL CANDIDATES:   Please ...</td>\n",
       "      <td>Apply online with a cover letter to https://a1...</td>\n",
       "      <td></td>\n",
       "      <td></td>\n",
       "      <td></td>\n",
       "      <td>New York City Residency is not required for th...</td>\n",
       "      <td>03/01/2022</td>\n",
       "      <td></td>\n",
       "      <td>04/05/2022</td>\n",
       "      <td>04/12/2022</td>\n",
       "    </tr>\n",
       "    <tr>\n",
       "      <th>1</th>\n",
       "      <td>526663</td>\n",
       "      <td>DEPT OF HEALTH/MENTAL HYGIENE</td>\n",
       "      <td>Internal</td>\n",
       "      <td>1</td>\n",
       "      <td>College Aide,  Bureau of Vital Statistics</td>\n",
       "      <td>COLLEGE AIDE (ALL CITY DEPTS)</td>\n",
       "      <td>Non-Competitive-5</td>\n",
       "      <td>10209</td>\n",
       "      <td>1</td>\n",
       "      <td>Health</td>\n",
       "      <td>...</td>\n",
       "      <td>**IMPORTANT NOTES TO ALL CANDIDATES:  Please n...</td>\n",
       "      <td>Apply online with a cover letter to https://a1...</td>\n",
       "      <td>35 hours/week when school is not in session</td>\n",
       "      <td></td>\n",
       "      <td></td>\n",
       "      <td>New York City residency is generally required ...</td>\n",
       "      <td>04/07/2022</td>\n",
       "      <td>05-AUG-2022</td>\n",
       "      <td>04/07/2022</td>\n",
       "      <td>04/12/2022</td>\n",
       "    </tr>\n",
       "    <tr>\n",
       "      <th>2</th>\n",
       "      <td>474070</td>\n",
       "      <td>DEPT OF HEALTH/MENTAL HYGIENE</td>\n",
       "      <td>External</td>\n",
       "      <td>1</td>\n",
       "      <td>Race to Justice Data Analyst, Office of First ...</td>\n",
       "      <td>CITY RESEARCH SCIENTIST</td>\n",
       "      <td>Non-Competitive-5</td>\n",
       "      <td>21744</td>\n",
       "      <td>2</td>\n",
       "      <td>Health Policy, Research &amp; Analysis</td>\n",
       "      <td>...</td>\n",
       "      <td>**IMPORTANT NOTES TO ALL CANDIDATES:  Please n...</td>\n",
       "      <td>Apply online with a cover letter to https://a1...</td>\n",
       "      <td></td>\n",
       "      <td></td>\n",
       "      <td></td>\n",
       "      <td>New York City residency is generally required ...</td>\n",
       "      <td>02/03/2022</td>\n",
       "      <td>30-APR-2022</td>\n",
       "      <td>03/30/2022</td>\n",
       "      <td>04/12/2022</td>\n",
       "    </tr>\n",
       "    <tr>\n",
       "      <th>3</th>\n",
       "      <td>520157</td>\n",
       "      <td>NYC POLICE PENSION FUND</td>\n",
       "      <td>External</td>\n",
       "      <td>1</td>\n",
       "      <td>Medical Board Physician</td>\n",
       "      <td>PHYSICIAN</td>\n",
       "      <td>Non-Competitive-5</td>\n",
       "      <td>53010</td>\n",
       "      <td>0</td>\n",
       "      <td>Health</td>\n",
       "      <td>...</td>\n",
       "      <td>Class of Position: Independent Contractor Sala...</td>\n",
       "      <td>Send a CV and cover letter in a PDF format to ...</td>\n",
       "      <td>Minimum hours: 4/week</td>\n",
       "      <td>1 Lefrak City Plaza, Corona, NY</td>\n",
       "      <td></td>\n",
       "      <td>New York City Residency is not required for th...</td>\n",
       "      <td>02/10/2022</td>\n",
       "      <td></td>\n",
       "      <td>02/10/2022</td>\n",
       "      <td>04/12/2022</td>\n",
       "    </tr>\n",
       "    <tr>\n",
       "      <th>4</th>\n",
       "      <td>460190</td>\n",
       "      <td>DEPT OF HEALTH/MENTAL HYGIENE</td>\n",
       "      <td>Internal</td>\n",
       "      <td>1</td>\n",
       "      <td>NYCTC Evidence-Based Program Coordinator</td>\n",
       "      <td>COMMUNITY COORDINATOR</td>\n",
       "      <td>Non-Competitive-5</td>\n",
       "      <td>56058</td>\n",
       "      <td>0</td>\n",
       "      <td>Constituent Services &amp; Community Programs Health</td>\n",
       "      <td>...</td>\n",
       "      <td>**IMPORTANT NOTES TO ALL CANDIDATES:  Please n...</td>\n",
       "      <td>Apply online with a cover letter to https://a1...</td>\n",
       "      <td></td>\n",
       "      <td></td>\n",
       "      <td></td>\n",
       "      <td>New York City residency is generally required ...</td>\n",
       "      <td>01/21/2022</td>\n",
       "      <td>21-MAY-2022</td>\n",
       "      <td>02/23/2022</td>\n",
       "      <td>04/12/2022</td>\n",
       "    </tr>\n",
       "  </tbody>\n",
       "</table>\n",
       "<p>5 rows × 30 columns</p>\n",
       "</div>"
      ],
      "text/plain": [
       "   Job ID                         Agency Posting Type  # Of Positions  \\\n",
       "0  424339  DEPT OF HEALTH/MENTAL HYGIENE     External               1   \n",
       "1  526663  DEPT OF HEALTH/MENTAL HYGIENE     Internal               1   \n",
       "2  474070  DEPT OF HEALTH/MENTAL HYGIENE     External               1   \n",
       "3  520157        NYC POLICE PENSION FUND     External               1   \n",
       "4  460190  DEPT OF HEALTH/MENTAL HYGIENE     Internal               1   \n",
       "\n",
       "                                      Business Title  \\\n",
       "0      Triage Nurse, Bureau of Public Health Clinics   \n",
       "1          College Aide,  Bureau of Vital Statistics   \n",
       "2  Race to Justice Data Analyst, Office of First ...   \n",
       "3                            Medical Board Physician   \n",
       "4           NYCTC Evidence-Based Program Coordinator   \n",
       "\n",
       "             Civil Service Title Title Classification Title Code No Level  \\\n",
       "0            PUBLIC HEALTH NURSE        Competitive-1         51011     3   \n",
       "1  COLLEGE AIDE (ALL CITY DEPTS)    Non-Competitive-5         10209     1   \n",
       "2        CITY RESEARCH SCIENTIST    Non-Competitive-5         21744     2   \n",
       "3                      PHYSICIAN    Non-Competitive-5         53010     0   \n",
       "4          COMMUNITY COORDINATOR    Non-Competitive-5         56058     0   \n",
       "\n",
       "                                       Job Category  ...  \\\n",
       "0                                            Health  ...   \n",
       "1                                            Health  ...   \n",
       "2                Health Policy, Research & Analysis  ...   \n",
       "3                                            Health  ...   \n",
       "4  Constituent Services & Community Programs Health  ...   \n",
       "\n",
       "                              Additional Information  \\\n",
       "0  **IMPORTANT NOTES TO ALL CANDIDATES:   Please ...   \n",
       "1  **IMPORTANT NOTES TO ALL CANDIDATES:  Please n...   \n",
       "2  **IMPORTANT NOTES TO ALL CANDIDATES:  Please n...   \n",
       "3  Class of Position: Independent Contractor Sala...   \n",
       "4  **IMPORTANT NOTES TO ALL CANDIDATES:  Please n...   \n",
       "\n",
       "                                            To Apply  \\\n",
       "0  Apply online with a cover letter to https://a1...   \n",
       "1  Apply online with a cover letter to https://a1...   \n",
       "2  Apply online with a cover letter to https://a1...   \n",
       "3  Send a CV and cover letter in a PDF format to ...   \n",
       "4  Apply online with a cover letter to https://a1...   \n",
       "\n",
       "                                   Hours/Shift  \\\n",
       "0                                                \n",
       "1  35 hours/week when school is not in session   \n",
       "2                                                \n",
       "3                        Minimum hours: 4/week   \n",
       "4                                                \n",
       "\n",
       "                   Work Location 1 Recruitment Contact  \\\n",
       "0                                                        \n",
       "1                                                        \n",
       "2                                                        \n",
       "3  1 Lefrak City Plaza, Corona, NY                       \n",
       "4                                                        \n",
       "\n",
       "                               Residency Requirement Posting Date  \\\n",
       "0  New York City Residency is not required for th...   03/01/2022   \n",
       "1  New York City residency is generally required ...   04/07/2022   \n",
       "2  New York City residency is generally required ...   02/03/2022   \n",
       "3  New York City Residency is not required for th...   02/10/2022   \n",
       "4  New York City residency is generally required ...   01/21/2022   \n",
       "\n",
       "    Post Until Posting Updated Process Date  \n",
       "0                   04/05/2022   04/12/2022  \n",
       "1  05-AUG-2022      04/07/2022   04/12/2022  \n",
       "2  30-APR-2022      03/30/2022   04/12/2022  \n",
       "3                   02/10/2022   04/12/2022  \n",
       "4  21-MAY-2022      02/23/2022   04/12/2022  \n",
       "\n",
       "[5 rows x 30 columns]"
      ]
     },
     "execution_count": 7,
     "metadata": {},
     "output_type": "execute_result"
    }
   ],
   "source": [
    "#Visualizing the data\n",
    "dat = pd.DataFrame(a)\n",
    "dat = dat.iloc[:,1:61]\n",
    "dat.head()"
   ]
  },
  {
   "cell_type": "code",
   "execution_count": 8,
   "id": "f973462c-76c4-43db-8b3c-80c4bcb10bf1",
   "metadata": {},
   "outputs": [
    {
     "name": "stdout",
     "output_type": "stream",
     "text": [
      "Requirement already satisfied: pyspark in /Users/yuanhongxie/opt/anaconda3/lib/python3.9/site-packages (3.2.1)\n",
      "Requirement already satisfied: py4j==0.10.9.3 in /Users/yuanhongxie/opt/anaconda3/lib/python3.9/site-packages (from pyspark) (0.10.9.3)\n"
     ]
    }
   ],
   "source": [
    "#ApacheSpark\n",
    "!pip install pyspark"
   ]
  },
  {
   "cell_type": "code",
   "execution_count": 9,
   "id": "53b986cc-9d00-430f-97af-f9a19f847692",
   "metadata": {},
   "outputs": [],
   "source": [
    "#Connecting pyspark\n",
    "from pyspark.sql.types import *\n",
    "from datetime import datetime\n",
    "\n",
    "from pyspark.conf import SparkConf\n",
    "from pyspark import SparkContext\n",
    "from pyspark.sql import SQLContext\n",
    "from pyspark.sql.functions import col\n",
    "from pyspark.sql.types import BooleanType\n",
    "from pyspark.sql.types import StringType\n",
    "from pyspark.sql.functions import udf"
   ]
  },
  {
   "cell_type": "code",
   "execution_count": 10,
   "id": "c326e808-01a2-456a-82b3-de305b1c536c",
   "metadata": {},
   "outputs": [
    {
     "name": "stderr",
     "output_type": "stream",
     "text": [
      "Using Spark's default log4j profile: org/apache/spark/log4j-defaults.properties\n",
      "Setting default log level to \"WARN\".\n",
      "To adjust logging level use sc.setLogLevel(newLevel). For SparkR, use setLogLevel(newLevel).\n",
      "22/04/28 20:03:42 WARN NativeCodeLoader: Unable to load native-hadoop library for your platform... using builtin-java classes where applicable\n",
      "22/04/28 20:03:43 WARN Utils: Service 'SparkUI' could not bind on port 4040. Attempting port 4041.\n",
      "22/04/28 20:03:43 WARN Utils: Service 'SparkUI' could not bind on port 4041. Attempting port 4042.\n",
      "22/04/28 20:03:45 WARN Utils: Service 'SparkUI' could not bind on port 4040. Attempting port 4041.\n",
      "22/04/28 20:03:45 WARN Utils: Service 'SparkUI' could not bind on port 4041. Attempting port 4042.\n",
      "/Users/yuanhongxie/opt/anaconda3/lib/python3.9/site-packages/pyspark/sql/context.py:77: FutureWarning: Deprecated in 3.0.0. Use SparkSession.builder.getOrCreate() instead.\n",
      "  warnings.warn(\n"
     ]
    }
   ],
   "source": [
    "sc = SparkContext() \n",
    "config = sc.getConf()\n",
    "config.set('spark.cores.max','4')\n",
    "config.set('spark.executor.memory', '8G')\n",
    "config.set('spark.driver.maxResultSize', '8g')\n",
    "config.set('spark.kryoserializer.buffer.max', '512m')\n",
    "config.set(\"spark.driver.cores\", \"4\")\n",
    "sc.stop()\n",
    "\n",
    "sc = SparkContext(conf = config) \n",
    "sqlContext = SQLContext(sc)\n",
    "    # print(\"Using Apache Spark Version\", sc.version)"
   ]
  },
  {
   "cell_type": "code",
   "execution_count": 11,
   "id": "1d0a2142-c263-4f81-aefe-1f78c3028c54",
   "metadata": {},
   "outputs": [],
   "source": [
    "#Functions to convert pandas dataframe to spark dataframe\n",
    "\n",
    "def equivalent_type(f):\n",
    "      if f == 'datetime64[ns]': return TimestampType()\n",
    "      elif f == 'int64': return LongType()\n",
    "      elif f == 'int32': return IntegerType()\n",
    "      elif f == 'float64': return FloatType()\n",
    "      else: return StringType()\n",
    "      \n",
    "def define_structure(string, format_type):\n",
    "      try: typo = equivalent_type(format_type)\n",
    "      except: typo = StringType()\n",
    "      return StructField(string, typo)\n",
    "      \n",
    "def pandas_to_spark(pandas_df):\n",
    "      columns = list(pandas_df.columns)\n",
    "      types = list(pandas_df.dtypes)\n",
    "      struct_list = []\n",
    "      for column, typo in zip(columns, types): \n",
    "        struct_list.append(define_structure(column, typo))\n",
    "      p_schema = StructType(struct_list)\n",
    "      return sqlContext.createDataFrame(pandas_df, p_schema)"
   ]
  },
  {
   "cell_type": "code",
   "execution_count": 12,
   "id": "d2477737-c47c-4fc7-b267-cfd49bde3c57",
   "metadata": {},
   "outputs": [],
   "source": [
    "spark_df = pandas_to_spark(dat)"
   ]
  },
  {
   "cell_type": "code",
   "execution_count": 13,
   "id": "7b97f427-5b9c-4721-bf7c-f36f62e2ccdc",
   "metadata": {},
   "outputs": [
    {
     "data": {
      "text/plain": [
       "['Job ID',\n",
       " 'Agency',\n",
       " 'Posting Type',\n",
       " '# Of Positions',\n",
       " 'Business Title',\n",
       " 'Civil Service Title',\n",
       " 'Title Classification',\n",
       " 'Title Code No',\n",
       " 'Level',\n",
       " 'Job Category',\n",
       " 'Full-Time/Part-Time indicator',\n",
       " 'Career Level',\n",
       " 'Salary Range From',\n",
       " 'Salary Range To',\n",
       " 'Salary Frequency',\n",
       " 'Work Location',\n",
       " 'Division/Work Unit',\n",
       " 'Job Description',\n",
       " 'Minimum Qual Requirements',\n",
       " 'Preferred Skills',\n",
       " 'Additional Information',\n",
       " 'To Apply',\n",
       " 'Hours/Shift',\n",
       " 'Work Location 1',\n",
       " 'Recruitment Contact',\n",
       " 'Residency Requirement',\n",
       " 'Posting Date',\n",
       " 'Post Until',\n",
       " 'Posting Updated',\n",
       " 'Process Date']"
      ]
     },
     "execution_count": 13,
     "metadata": {},
     "output_type": "execute_result"
    }
   ],
   "source": [
    "spark_df.columns"
   ]
  },
  {
   "cell_type": "code",
   "execution_count": 14,
   "id": "5c7b4e65-c3c0-4579-8c4c-e744abf3063b",
   "metadata": {},
   "outputs": [
    {
     "name": "stderr",
     "output_type": "stream",
     "text": [
      "22/04/28 20:03:51 WARN package: Truncated the string representation of a plan since it was too large. This behavior can be adjusted by setting 'spark.sql.debug.maxToStringFields'.\n",
      "                                                                                \r"
     ]
    },
    {
     "name": "stdout",
     "output_type": "stream",
     "text": [
      "+------+--------------------+------------+--------------+--------------------+--------------------+--------------------+-------------+-----+--------------------+-----------------------------+--------------------+-----------------+---------------+----------------+--------------------+--------------------+--------------------+-------------------------+--------------------+----------------------+--------------------+--------------------+--------------------+-------------------+---------------------+------------+-----------+---------------+------------+\n",
      "|Job ID|              Agency|Posting Type|# Of Positions|      Business Title| Civil Service Title|Title Classification|Title Code No|Level|        Job Category|Full-Time/Part-Time indicator|        Career Level|Salary Range From|Salary Range To|Salary Frequency|       Work Location|  Division/Work Unit|     Job Description|Minimum Qual Requirements|    Preferred Skills|Additional Information|            To Apply|         Hours/Shift|     Work Location 1|Recruitment Contact|Residency Requirement|Posting Date| Post Until|Posting Updated|Process Date|\n",
      "+------+--------------------+------------+--------------+--------------------+--------------------+--------------------+-------------+-----+--------------------+-----------------------------+--------------------+-----------------+---------------+----------------+--------------------+--------------------+--------------------+-------------------------+--------------------+----------------------+--------------------+--------------------+--------------------+-------------------+---------------------+------------+-----------+---------------+------------+\n",
      "|424339|DEPT OF HEALTH/ME...|    External|             1|Triage Nurse, Bur...| PUBLIC HEALTH NURSE|       Competitive-1|        51011|    3|              Health|                            F|Experienced (non-...|          84252.0|        84252.0|          Annual|  NYC - All Boroughs|  PHC Administration|**OPEN TO PERMANE...|     1. A Bachelorâs...|                    |  **IMPORTANT NOTES...|Apply online with...|                    |                    |                   | New York City Res...|  03/01/2022|           |     04/05/2022|  04/12/2022|\n",
      "|526663|DEPT OF HEALTH/ME...|    Internal|             1|College Aide,  Bu...|COLLEGE AIDE (ALL...|   Non-Competitive-5|        10209|    1|              Health|                            P|             Student|             15.5|           19.9|          Hourly|125 Worth Street,...|Vital Statistics/...|College Aide, Fre...|     For Assignment Le...|                    |  **IMPORTANT NOTES...|Apply online with...|35 hours/week whe...|                    |                   | New York City res...|  04/07/2022|05-AUG-2022|     04/07/2022|  04/12/2022|\n",
      "|474070|DEPT OF HEALTH/ME...|    External|             1|Race to Justice D...|CITY RESEARCH SCI...|   Non-Competitive-5|        21744|    2|Health Policy, Re...|                            F|Experienced (non-...|          75504.0|        93776.0|          Annual|   42-09 28th Street|FDC/CHIEF EQUITY ...|Race to Justice, ...|     1.  For Assignmen...|Experience with r...|  **IMPORTANT NOTES...|Apply online with...|                    |                    |                   | New York City res...|  02/03/2022|30-APR-2022|     03/30/2022|  04/12/2022|\n",
      "|520157|NYC POLICE PENSIO...|    External|             1|Medical Board Phy...|           PHYSICIAN|   Non-Competitive-5|        53010|    0|              Health|                            P|Experienced (non-...|         110428.0|       118342.0|          Annual|        233 Broadway|     Pension Section|The New York City...|     Qualification Req...|Board certified i...|  Class of Position...|Send a CV and cov...|Minimum hours: 4/...|1 Lefrak City Pla...|                   | New York City Res...|  02/10/2022|           |     02/10/2022|  04/12/2022|\n",
      "|460190|DEPT OF HEALTH/ME...|    Internal|             1|NYCTC Evidence-Ba...|COMMUNITY COORDIN...|   Non-Competitive-5|        56058|    0|Constituent Servi...|                            F|Experienced (non-...|          54100.0|        62215.0|          Annual|   42-09 28th Street|MIRH NYC Teens Co...|The Division of F...|     1. A baccalaureat...|Knowledge of adol...|  **IMPORTANT NOTES...|Apply online with...|                    |                    |                   | New York City res...|  01/21/2022|21-MAY-2022|     02/23/2022|  04/12/2022|\n",
      "+------+--------------------+------------+--------------+--------------------+--------------------+--------------------+-------------+-----+--------------------+-----------------------------+--------------------+-----------------+---------------+----------------+--------------------+--------------------+--------------------+-------------------------+--------------------+----------------------+--------------------+--------------------+--------------------+-------------------+---------------------+------------+-----------+---------------+------------+\n",
      "only showing top 5 rows\n",
      "\n"
     ]
    }
   ],
   "source": [
    "#test\n",
    "spark_df.show(5)"
   ]
  },
  {
   "cell_type": "code",
   "execution_count": null,
   "id": "08af2679-52ac-40a4-bc69-f957669274d2",
   "metadata": {},
   "outputs": [],
   "source": []
  },
  {
   "cell_type": "code",
   "execution_count": 15,
   "id": "7a8990fd-913d-4327-8cc0-5d93e795c506",
   "metadata": {},
   "outputs": [
    {
     "name": "stdout",
     "output_type": "stream",
     "text": [
      "Duration: 0:00:00.395498\n"
     ]
    }
   ],
   "source": [
    "start_time = datetime.now()\n",
    "from flask import Flask, request, render_template\n",
    "app = Flask(\"ETL-Pipeline\")\n",
    "\n",
    "@app.route('/')\n",
    "def my_form():\n",
    "    return render_template('my-form.html')\n",
    "\n",
    "@app.route('/', methods=['POST'])\n",
    "def my_form_post():\n",
    "    val = request.form['userinput']\n",
    "    query = {\n",
    "    \"Job Category\": {\n",
    "        \"$regex\": val} }\n",
    "    cur = collection.find(query)\n",
    "    a  = []\n",
    "    for i in cur:\n",
    "        a.append(i)\n",
    "    dat = pd.DataFrame(a)\n",
    "    dat = dat.iloc[:,1:61]\n",
    "    spark_df = pandas_to_spark(dat)\n",
    "    cb_rdd = spark_df.select('*').rdd.map(lambda row: [str(row[i]) for i in ['Agency']])\n",
    "    cb_sdf2 = sqlContext.createDataFrame(cb_rdd,['Agency'])\n",
    "    final_df = cb_sdf2.toPandas(),\n",
    "   \n",
    "    \n",
    "    return str(final_df) #displaying results on the webpage\n",
    "end_time = datetime.now()\n",
    "print('Duration: {}'.format(end_time - start_time))"
   ]
  },
  {
   "cell_type": "code",
   "execution_count": null,
   "id": "b0816f9b-d921-43af-ab52-59e76158d9fa",
   "metadata": {},
   "outputs": [
    {
     "name": "stdout",
     "output_type": "stream",
     "text": [
      " * Serving Flask app \"ETL-Pipeline\" (lazy loading)\n",
      " * Environment: production\n",
      "   WARNING: This is a development server. Do not use it in a production deployment.\n",
      "   Use a production WSGI server instead.\n",
      " * Debug mode: off\n"
     ]
    },
    {
     "name": "stderr",
     "output_type": "stream",
     "text": [
      " * Running on http://localhost:5002/ (Press CTRL+C to quit)\n",
      "127.0.0.1 - - [28/Apr/2022 20:03:59] \"GET / HTTP/1.1\" 200 -\n",
      "127.0.0.1 - - [28/Apr/2022 20:04:05] \"POST / HTTP/1.1\" 200 -                    \n",
      "127.0.0.1 - - [28/Apr/2022 20:04:26] \"GET / HTTP/1.1\" 200 -\n"
     ]
    }
   ],
   "source": [
    "app.run(host='localhost', port=5002)"
   ]
  },
  {
   "cell_type": "code",
   "execution_count": null,
   "id": "bfd753a9-9373-4fa0-bf87-c3b1bf7a3773",
   "metadata": {},
   "outputs": [],
   "source": []
  }
 ],
 "metadata": {
  "kernelspec": {
   "display_name": "Python 3 (ipykernel)",
   "language": "python",
   "name": "python3"
  },
  "language_info": {
   "codemirror_mode": {
    "name": "ipython",
    "version": 3
   },
   "file_extension": ".py",
   "mimetype": "text/x-python",
   "name": "python",
   "nbconvert_exporter": "python",
   "pygments_lexer": "ipython3",
   "version": "3.9.7"
  }
 },
 "nbformat": 4,
 "nbformat_minor": 5
}
